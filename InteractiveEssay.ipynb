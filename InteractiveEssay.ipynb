{
 "cells": [
  {
   "cell_type": "markdown",
   "id": "9ed772ee-2025-441e-b858-561fe9d1ae60",
   "metadata": {},
   "source": [
    "# Interactive Essay"
   ]
  },
  {
   "cell_type": "markdown",
   "id": "c256dd74-5746-4808-8621-8a49f6e8ef56",
   "metadata": {},
   "source": [
    "by Katarzyna Przerada"
   ]
  },
  {
   "cell_type": "markdown",
   "id": "ed0623ee-0bf1-476e-ac5b-025d91a67402",
   "metadata": {},
   "source": [
    "## Introduction: Shirley Jackson"
   ]
  },
  {
   "cell_type": "markdown",
   "id": "69b97a25-e6a4-458a-b418-e6241c3bd039",
   "metadata": {},
   "source": [
    "**Shirley Jackson** (December 14, 1916 – August 8, 1965) was an American writer, best known for her short story [***\"The Lottery\"***](https://www.cusd200.org/cms/lib/IL01001538/Centricity/Domain/361/jackson_lottery.pdf), published in 1948. Miles Hayman, Jackson’s great-grandson, defines it as \n",
    "\n",
    ">*“a perfect mechanism that leaves little room for our invention. Some texts twist, spin, and stimulate the imagination, but “The Lottery” is not the case. Its largely hermetic structure is wholly rational, and its words are combined with clockwork precision”*. \n",
    "\n",
    "This story is to this day one of the most popular American literary texts; however, it constitutes only a small percent of Jackson's creative output. Throughout her life, she wrote six novels and over one hundred short stories. Recognized primarily for her gothic fiction, she also wrote excellent prose on subjects like:\n",
    "- racism, \n",
    "- identity, \n",
    "- womanhood, \n",
    "- relations of adults and children,\n",
    "- the significance of home"
   ]
  },
  {
   "cell_type": "markdown",
   "id": "962f00c2-b247-41db-9f75-b5b5283e5256",
   "metadata": {},
   "source": [
    "![Shirley Jackson](https://upload.wikimedia.org/wikipedia/commons/d/d1/Jackson_shirley.jpg)"
   ]
  },
  {
   "cell_type": "markdown",
   "id": "9e244d32-53ad-4f15-8c87-289a51d757d6",
   "metadata": {},
   "source": [
    "## The story of focus: ***\"Got a Letter from Jimmy\"***"
   ]
  },
  {
   "cell_type": "markdown",
   "id": "36c3baf2-9204-487a-9417-c6326f0e9fdd",
   "metadata": {},
   "source": [
    "Published in 1949, *“Got a Letter from Jimmy”* explores women's capacity of dealing with **anxiety, hopelessness, and anger** caused by living under patriarchal domination. The reader is limited to the thoughts of a clearly despaired wife, whose husband received a letter from a man called Jimmy. The woman begins to obsess over the letter and tries to convince her partner to open it since he plans to send it unopened."
   ]
  },
  {
   "cell_type": "markdown",
   "id": "a810d3fc-79cf-452c-b0ba-0bad13d783b8",
   "metadata": {},
   "source": [
    "### 1 Prepocessing the story"
   ]
  },
  {
   "cell_type": "markdown",
   "id": "a9b93c8e-bac1-4b9e-a136-b22a7a2323ed",
   "metadata": {},
   "source": [
    "Text preprocessing can be defined as cleaning and transforming text data into a usable format. In order to do that, I will focus on three porcesses:\n",
    "- tokenization, \n",
    "- part of speech tagging,\n",
    "- stop word removal"
   ]
  },
  {
   "cell_type": "markdown",
   "id": "b527bbb4-9d5c-4382-b031-a481d4218c31",
   "metadata": {},
   "source": [
    "#### 1.1 NLTK"
   ]
  },
  {
   "cell_type": "code",
   "execution_count": 1,
   "id": "4a0abd5a-0c08-4792-98e4-c3b8b7863f05",
   "metadata": {},
   "outputs": [],
   "source": [
    "import nltk"
   ]
  },
  {
   "cell_type": "markdown",
   "id": "3de56872-48f5-4932-9e48-6e4adda4acfb",
   "metadata": {},
   "source": [
    "In order to preprocess the story I will use **NLTK**, Natural Language Toolkit. It is a is a platform used for building Python programs to process human languages. "
   ]
  },
  {
   "cell_type": "markdown",
   "id": "3af1db9c-8324-4bf5-b1fb-a553fd4213dd",
   "metadata": {},
   "source": [
    "The story can be accessed via [tentoinfinity.com](https://tentoinfinity.com/2013/10/23/got-a-letter-from-jimmy-by-shirley-jackson/)."
   ]
  },
  {
   "cell_type": "code",
   "execution_count": 59,
   "id": "7786a2d6-7899-44bc-900a-a2be9522f4ff",
   "metadata": {},
   "outputs": [
    {
     "data": {
      "text/plain": [
       "<Response [200]>"
      ]
     },
     "execution_count": 59,
     "metadata": {},
     "output_type": "execute_result"
    }
   ],
   "source": [
    "import requests\n",
    "page = requests.get(\"https://tentoinfinity.com/2013/10/23/got-a-letter-from-jimmy-by-shirley-jackson/\")\n",
    "page"
   ]
  },
  {
   "cell_type": "code",
   "execution_count": 5,
   "id": "1b6c2c6b-9db9-4c5c-8630-54a0fca82f88",
   "metadata": {},
   "outputs": [
    {
     "data": {
      "text/plain": [
       "200"
      ]
     },
     "execution_count": 5,
     "metadata": {},
     "output_type": "execute_result"
    }
   ],
   "source": [
    "page.status_code"
   ]
  },
  {
   "cell_type": "markdown",
   "id": "716acef6-8337-4e13-b0df-9d5b889b176b",
   "metadata": {},
   "source": [
    "#### 1.2 Beautiful soup"
   ]
  },
  {
   "cell_type": "markdown",
   "id": "2a4d8e48-4559-4c43-9e0a-2d7be7d13ce8",
   "metadata": {},
   "source": [
    "Beautiful Soup is a Python library for pulling data out of HTML and XML files."
   ]
  },
  {
   "cell_type": "code",
   "execution_count": 6,
   "id": "f7d03ee9-2e0a-4d0e-a873-212c7d75e655",
   "metadata": {},
   "outputs": [],
   "source": [
    "from bs4 import BeautifulSoup\n",
    "soup = BeautifulSoup(page.content, 'html.parser')"
   ]
  },
  {
   "cell_type": "code",
   "execution_count": 6,
   "id": "3c26b7d8-72a8-4e79-bd01-f21aa50afedc",
   "metadata": {},
   "outputs": [],
   "source": [
    "#print(soup.prettify())"
   ]
  },
  {
   "cell_type": "code",
   "execution_count": 16,
   "id": "5f45bc38-aa71-4c00-bbe1-ff465319a71d",
   "metadata": {},
   "outputs": [
    {
     "data": {
      "text/plain": [
       "<title>Got a Letter from Jimmy by Shirley Jackson | Ten to Infinity</title>"
      ]
     },
     "execution_count": 16,
     "metadata": {},
     "output_type": "execute_result"
    }
   ],
   "source": [
    "soup.title"
   ]
  },
  {
   "cell_type": "code",
   "execution_count": 17,
   "id": "28318ad4-e0f1-4a6a-b072-982c4b779f3f",
   "metadata": {},
   "outputs": [],
   "source": [
    "paras = soup.find_all('p')"
   ]
  },
  {
   "cell_type": "code",
   "execution_count": 19,
   "id": "98d4f8f3-cfe8-430d-8961-741ecb0955f8",
   "metadata": {},
   "outputs": [],
   "source": [
    "#print(paras)"
   ]
  },
  {
   "cell_type": "markdown",
   "id": "79a71a86-d1cd-4483-9c5c-2946bd4b5405",
   "metadata": {},
   "source": [
    "**get.text** function allows to extract all the text from a page on which the story is posted."
   ]
  },
  {
   "cell_type": "code",
   "execution_count": 26,
   "id": "5a0c9854-1398-4793-83bb-bc8868a424c3",
   "metadata": {},
   "outputs": [],
   "source": [
    "full_story = soup.get_text()\n",
    "#print(full_story)"
   ]
  },
  {
   "cell_type": "markdown",
   "id": "d45c3b83-9a09-46dd-bee1-b5bca24966d0",
   "metadata": {},
   "source": [
    "The code below creates a list, allowing to work with raw sentences, without empty lines and indentation."
   ]
  },
  {
   "cell_type": "code",
   "execution_count": 23,
   "id": "2444c0df-2167-49a4-b04a-e01a0688269e",
   "metadata": {},
   "outputs": [
    {
     "name": "stdout",
     "output_type": "stream",
     "text": [
      "['As a reader I have my biases (who doesn’t), and one of them is that I am often left frustrated with short stories that emphasize their mundanity. With such a small space to work with, and not allowed to justify their existence with a dizzying high concept, most of them don’t work for me. They may be witty or eloquent, but I’m frequently left wishing I knew more of the characters before they come onstage. Often they feel like they would have been better as a scene in a novel than left to flounder on their own.', 'Unduly harsh? Perhaps. But it gives me all the more pleasure to talk about today’s story, which doesn’t need a single additional word to be thoroughly immersed in the situation.', 'It starts with a husband and wife finishing dinner in silence when, unexpectedly: “Got a letter from Jimmy today,” he said, when he was unfolding his napkin.', 'So you got it at last, she thought, so he finally broke down and wrote you, maybe now it will be all right, everything settled and friendly again… “What did he have to say?” she said casually.', '“Don’t know,” he said, “didn’t open it.”', 'My God, she thought, seeing it clearly all the way through right then. She waited.', '“Going to send it back to him tomorrow unopened. […] Had lunch with Tom today,” he said, as though the subject were closed, just exactly as though the subject were closed, she thought, just exactly as though he never expected to think about it again. Maybe he doesn’t, she thought, my God.', 'And from there the rest of the tormented dinner conversation plays out, while the reader is locked in the wife’s increasingly panicking head.', 'What I love about this is how it turns the limitations of its short length into an asset. We don’t know what’s in the letter from Jimmy. We don’t know why the husband refuses to read it and, for all the hints she drops, we don’t really know why she wants him to read it. The core of this story is an unspoken power struggle between husband and wife, the husband not even aware he’s participating. It’s a primordial duel fought with the most innocuous of words and the faintest of reactions, with a clear victor standing by the end of it. To assign specific motives and explanations would only detract from this; the raw archetype is more than powerful enough.', 'It’s said that a novel is the most momentous period of a character’s life, whereas a short story is about highlighting the most momentous instant. This it succeeds at, with the wife elevating the letter until it becomes a moment of crucial importance, while never leaving behind the juxtaposition that their whole conflict – that of opening a letter – is also absurdly trivial.', 'Got a Letter from Jimmy by Shirley Jackson', 'Availability: print', 'Word count: 800', 'First published: The Lottery, or, The Adventures of James Harris, collection, 1949', 'Where to find it: It’s in a good deal of Shirley Jackson collections entitled ‘The Lottery’', 'The Masterpieces of Shirley Jackson, collection, 1996, Raven Books / Robinson Publishing', 'Shirley Jackson: Novels and Stories, collection, 2010, Library of America', 'Ditto. Agree with your take on this story. Like all of her best work, its powers, emphasis, and values are not what and where you expect to find them.', 'Fill in your details below or click an icon to log in:', 'You are commenting using your WordPress.com account.\\t\\t\\t\\n\\t\\t\\t\\t(\\xa0Log\\xa0Out\\xa0/\\xa0\\n\\t\\t\\t\\tChange\\xa0)', 'You are commenting using your Twitter account.\\t\\t\\t\\n\\t\\t\\t\\t(\\xa0Log\\xa0Out\\xa0/\\xa0\\n\\t\\t\\t\\tChange\\xa0)', 'You are commenting using your Facebook account.\\t\\t\\t\\n\\t\\t\\t\\t(\\xa0Log\\xa0Out\\xa0/\\xa0\\n\\t\\t\\t\\tChange\\xa0)', 'Connecting to %s', 'Notify me of new comments via email.', 'Notify me of new posts via email.', 'Enter your email address to follow this blog and receive notifications of new posts by email.', 'Email Address:', 'Follow']\n"
     ]
    }
   ],
   "source": [
    "plain_story = []\n",
    "for para in paras:\n",
    "    processed_para = para.get_text()\n",
    "    processed_para = processed_para.strip()\n",
    "    if len(processed_para) > 1:\n",
    "        plain_story.append(processed_para)\n",
    "print(plain_story)"
   ]
  },
  {
   "cell_type": "markdown",
   "id": "9bcdb28e-fb1f-40f7-a3eb-0b0aaee5f002",
   "metadata": {},
   "source": [
    "#### 1.3 Tokenization"
   ]
  },
  {
   "cell_type": "markdown",
   "id": "8d7a80bf-2b8d-4d2f-bf90-bc88aa95adc8",
   "metadata": {},
   "source": [
    "Process of breaking out long-form text into sentences and words called **tokens**. It turns an unstructured string into a numerical data structure suitable for machine learning. It's the foremost step while modelling text data."
   ]
  },
  {
   "cell_type": "code",
   "execution_count": 28,
   "id": "400b665a-b98a-463b-883f-36310bec2c7b",
   "metadata": {},
   "outputs": [],
   "source": [
    "from nltk.tokenize import word_tokenize"
   ]
  },
  {
   "cell_type": "code",
   "execution_count": 30,
   "id": "30aa4869-a121-404e-9169-64e27162213f",
   "metadata": {},
   "outputs": [
    {
     "name": "stdout",
     "output_type": "stream",
     "text": [
      "['Got', 'a', 'Letter', 'from', 'Jimmy', 'by', 'Shirley', 'Jackson', '|', 'Ten', 'to', 'Infinity', 'Got', 'a', 'Letter', 'from', 'Jimmy', 'by', 'Shirley', 'Jackson', 'Posted', 'by', '10toinfinityOctober', '23', ',', '2013', 'Home', 'As', 'a', 'reader', 'I', 'have', 'my', 'biases', '(', 'who', 'doesn', '’', 't', ')', ',', 'and', 'one', 'of', 'them', 'is', 'that', 'I', 'am', 'often', 'left', 'frustrated', 'with', 'short', 'stories', 'that', 'emphasize', 'their', 'mundanity', '.', 'With', 'such', 'a', 'small', 'space', 'to', 'work', 'with', ',', 'and', 'not', 'allowed', 'to', 'justify', 'their', 'existence', 'with', 'a', 'dizzying', 'high', 'concept', ',', 'most', 'of', 'them', 'don', '’', 't', 'work', 'for', 'me', '.', 'They', 'may', 'be', 'witty', 'or', 'eloquent', ',', 'but', 'I', '’', 'm', 'frequently', 'left', 'wishing', 'I', 'knew', 'more', 'of', 'the', 'characters', 'before', 'they', 'come', 'onstage', '.', 'Often', 'they', 'feel', 'like', 'they', 'would', 'have', 'been', 'better', 'as', 'a', 'scene', 'in', 'a', 'novel', 'than', 'left', 'to', 'flounder', 'on', 'their', 'own', '.', 'Unduly', 'harsh', '?', 'Perhaps', '.', 'But', 'it', 'gives', 'me', 'all', 'the', 'more', 'pleasure', 'to', 'talk', 'about', 'today', '’', 's', 'story', ',', 'which', 'doesn', '’', 't', 'need', 'a', 'single', 'additional', 'word', 'to', 'be', 'thoroughly', 'immersed', 'in', 'the', 'situation', '.', 'It', 'starts', 'with', 'a', 'husband', 'and', 'wife', 'finishing', 'dinner', 'in', 'silence', 'when', ',', 'unexpectedly', ':', '“', 'Got', 'a', 'letter', 'from', 'Jimmy', 'today', ',', '”', 'he', 'said', ',', 'when', 'he', 'was', 'unfolding', 'his', 'napkin', '.', 'So', 'you', 'got', 'it', 'at', 'last', ',', 'she', 'thought', ',', 'so', 'he', 'finally', 'broke', 'down', 'and', 'wrote', 'you', ',', 'maybe', 'now', 'it', 'will', 'be', 'all', 'right', ',', 'everything', 'settled', 'and', 'friendly', 'again…', '“', 'What', 'did', 'he', 'have', 'to', 'say', '?', '”', 'she', 'said', 'casually', '.', '“', 'Don', '’', 't', 'know', ',', '”', 'he', 'said', ',', '“', 'didn', '’', 't', 'open', 'it.', '”', 'My', 'God', ',', 'she', 'thought', ',', 'seeing', 'it', 'clearly', 'all', 'the', 'way', 'through', 'right', 'then', '.', 'She', 'waited', '.', '“', 'Going', 'to', 'send', 'it', 'back', 'to', 'him', 'tomorrow', 'unopened', '.', '[', '…', ']', 'Had', 'lunch', 'with', 'Tom', 'today', ',', '”', 'he', 'said', ',', 'as', 'though', 'the', 'subject', 'were', 'closed', ',', 'just', 'exactly', 'as', 'though', 'the', 'subject', 'were', 'closed', ',', 'she', 'thought', ',', 'just', 'exactly', 'as', 'though', 'he', 'never', 'expected', 'to', 'think', 'about', 'it', 'again', '.', 'Maybe', 'he', 'doesn', '’', 't', ',', 'she', 'thought', ',', 'my', 'God', '.', 'And', 'from', 'there', 'the', 'rest', 'of', 'the', 'tormented', 'dinner', 'conversation', 'plays', 'out', ',', 'while', 'the', 'reader', 'is', 'locked', 'in', 'the', 'wife', '’', 's', 'increasingly', 'panicking', 'head', '.', 'What', 'I', 'love', 'about', 'this', 'is', 'how', 'it', 'turns', 'the', 'limitations', 'of', 'its', 'short', 'length', 'into', 'an', 'asset', '.', 'We', 'don', '’', 't', 'know', 'what', '’', 's', 'in', 'the', 'letter', 'from', 'Jimmy', '.', 'We', 'don', '’', 't', 'know', 'why', 'the', 'husband', 'refuses', 'to', 'read', 'it', 'and', ',', 'for', 'all', 'the', 'hints', 'she', 'drops', ',', 'we', 'don', '’', 't', 'really', 'know', 'why', 'she', 'wants', 'him', 'to', 'read', 'it', '.', 'The', 'core', 'of', 'this', 'story', 'is', 'an', 'unspoken', 'power', 'struggle', 'between', 'husband', 'and', 'wife', ',', 'the', 'husband', 'not', 'even', 'aware', 'he', '’', 's', 'participating', '.', 'It', '’', 's', 'a', 'primordial', 'duel', 'fought', 'with', 'the', 'most', 'innocuous', 'of', 'words', 'and', 'the', 'faintest', 'of', 'reactions', ',', 'with', 'a', 'clear', 'victor', 'standing', 'by', 'the', 'end', 'of', 'it', '.', 'To', 'assign', 'specific', 'motives', 'and', 'explanations', 'would', 'only', 'detract', 'from', 'this', ';', 'the', 'raw', 'archetype', 'is', 'more', 'than', 'powerful', 'enough', '.', 'It', '’', 's', 'said', 'that', 'a', 'novel', 'is', 'the', 'most', 'momentous', 'period', 'of', 'a', 'character', '’', 's', 'life', ',', 'whereas', 'a', 'short', 'story', 'is', 'about', 'highlighting', 'the', 'most', 'momentous', 'instant', '.', 'This', 'it', 'succeeds', 'at', ',', 'with', 'the', 'wife', 'elevating', 'the', 'letter', 'until', 'it', 'becomes', 'a', 'moment', 'of', 'crucial', 'importance', ',', 'while', 'never', 'leaving', 'behind', 'the', 'juxtaposition', 'that', 'their', 'whole', 'conflict', '–', 'that', 'of', 'opening', 'a', 'letter', '–', 'is', 'also', 'absurdly', 'trivial', '.', 'Got', 'a', 'Letter', 'from', 'Jimmy', 'by', 'Shirley', 'Jackson', 'Availability', ':', 'print', 'Word', 'count', ':', '800', 'First', 'published', ':', 'The', 'Lottery', ',', 'or', ',', 'The', 'Adventures', 'of', 'James', 'Harris', ',', 'collection', ',', '1949', 'Where', 'to', 'find', 'it', ':', 'It', '’', 's', 'in', 'a', 'good', 'deal', 'of', 'Shirley', 'Jackson', 'collections', 'entitled', '‘', 'The', 'Lottery', '’', 'The', 'Masterpieces', 'of', 'Shirley', 'Jackson', ',', 'collection', ',', '1996', ',', 'Raven', 'Books', '/', 'Robinson', 'Publishing', 'Shirley', 'Jackson', ':', 'Novels', 'and', 'Stories', ',', 'collection', ',', '2010', ',', 'Library', 'of', 'America', 'Share', 'this', ':', 'TwitterFacebookLike', 'this', ':', 'Like', 'Loading', '...', 'Related', 'Posted', 'in', ':', 'RecommendationsTagged', ':', '1940s', ',', 'modern', ',', 'psychological', ',', 'relationship', ',', 'Shirley', 'Jackson', ',', 'Short', 'StoryPermalink1', 'Comment', 'One', 'thought', 'on', '“', 'Got', 'a', 'Letter', 'from', 'Jimmy', 'by', 'Shirley', 'Jackson', '”', 'Henry', 'Lien', 'says', ':', 'October', '25', ',', '2013', 'at', '6:58', 'pm', 'Ditto', '.', 'Agree', 'with', 'your', 'take', 'on', 'this', 'story', '.', 'Like', 'all', 'of', 'her', 'best', 'work', ',', 'its', 'powers', ',', 'emphasis', ',', 'and', 'values', 'are', 'not', 'what', 'and', 'where', 'you', 'expect', 'to', 'find', 'them', '.', 'Reply', 'Leave', 'a', 'Reply', 'Cancel', 'reply', 'Enter', 'your', 'comment', 'here', '...', 'Fill', 'in', 'your', 'details', 'below', 'or', 'click', 'an', 'icon', 'to', 'log', 'in', ':', 'Email', '(', 'required', ')', '(', 'Address', 'never', 'made', 'public', ')', 'Name', '(', 'required', ')', 'Website', 'You', 'are', 'commenting', 'using', 'your', 'WordPress.com', 'account', '.', '(', 'Log', 'Out', '/', 'Change', ')', 'You', 'are', 'commenting', 'using', 'your', 'Twitter', 'account', '.', '(', 'Log', 'Out', '/', 'Change', ')', 'You', 'are', 'commenting', 'using', 'your', 'Facebook', 'account', '.', '(', 'Log', 'Out', '/', 'Change', ')', 'Cancel', 'Connecting', 'to', '%', 's', 'Notify', 'me', 'of', 'new', 'comments', 'via', 'email', '.', 'Notify', 'me', 'of', 'new', 'posts', 'via', 'email', '.', 'Δ', 'Post', 'navigation', '←', 'Creating', 'the', 'Innocent', 'Killer', 'by', 'John', 'Kessel', 'The', 'Great', 'God', 'Pan', 'by', 'Arthur', 'Machen', '→', 'Pages', 'Bio', 'and', 'contact', 'Freebie', 'Friday', ':', 'Free', 'Online', 'Stories', 'Index', ':', 'by', 'Authors', 'Index', ':', 'by', 'Genre', 'Index', ':', 'by', 'Publication', 'Year', 'Recent', 'Posts', 'Some', 'moon-related', 'books', 'The', '1879', 'Jeannette', 'Expedition', 'The', 'Many', 'Captain', 'Marvels', '(', 'part', '2', ')', 'The', 'Many', 'Captain', 'Marvels', '(', 'part', '1', ')', 'The', 'Wall', 'Around', 'the', 'World', '(', 'collection', ')', 'by', 'Theodore', 'R.', 'Cogswell', 'Search', 'Follow', 'Blog', 'via', 'Email', 'Enter', 'your', 'email', 'address', 'to', 'follow', 'this', 'blog', 'and', 'receive', 'notifications', 'of', 'new', 'posts', 'by', 'email', '.', 'Email', 'Address', ':', 'Follow', 'Create', 'a', 'free', 'website', 'or', 'blog', 'at', 'WordPress.com', '.', 'Follow', 'Following', 'Ten', 'to', 'Infinity', 'Join', '90', 'other', 'followers', 'Sign', 'me', 'up', 'Already', 'have', 'a', 'WordPress.com', 'account', '?', 'Log', 'in', 'now', '.', 'Ten', 'to', 'Infinity', 'Customize', 'Follow', 'Following', 'Sign', 'up', 'Log', 'in', 'Copy', 'shortlink', 'Report', 'this', 'content', 'View', 'post', 'in', 'Reader', 'Manage', 'subscriptions', 'Collapse', 'this', 'bar', 'Loading', 'Comments', '...', 'Write', 'a', 'Comment', '...', 'Email', '(', 'Required', ')', 'Name', '(', 'Required', ')', 'Website', '%', 'd', 'bloggers', 'like', 'this', ':']\n"
     ]
    }
   ],
   "source": [
    "tokenized_story=word_tokenize(full_story)\n",
    "print(tokenized_story)"
   ]
  },
  {
   "cell_type": "markdown",
   "id": "0184d2b7-49fd-48b3-981b-6193b82dd1f4",
   "metadata": {},
   "source": [
    "#### 1.4 Part of speech tagging"
   ]
  },
  {
   "cell_type": "markdown",
   "id": "e57d39c1-404c-4327-a5a2-42d4e7868271",
   "metadata": {},
   "source": [
    "***POS tagging*** assigns a word in a text with its part of speech depending on its definition and context."
   ]
  },
  {
   "cell_type": "code",
   "execution_count": 22,
   "id": "ad9735ea-ba8d-4875-8ef5-05c904ce93fe",
   "metadata": {},
   "outputs": [
    {
     "name": "stdout",
     "output_type": "stream",
     "text": [
      "[('As', 'IN'), ('a', 'DT'), ('reader', 'NN'), ('I', 'PRP'), ('have', 'VBP'), ('my', 'PRP$'), ('biases', 'NNS'), ('(', '('), ('who', 'WP'), ('doesn', 'VBP'), ('’', 'NNP'), ('t', 'NN'), (')', ')'), (',', ','), ('and', 'CC'), ('one', 'CD'), ('of', 'IN'), ('them', 'PRP'), ('is', 'VBZ'), ('that', 'IN'), ('I', 'PRP'), ('am', 'VBP'), ('often', 'RB'), ('left', 'VBN'), ('frustrated', 'VBN'), ('with', 'IN'), ('short', 'JJ'), ('stories', 'NNS'), ('that', 'WDT'), ('emphasize', 'VBP'), ('their', 'PRP$'), ('mundanity', 'NN'), ('.', '.'), ('With', 'IN'), ('such', 'JJ'), ('a', 'DT'), ('small', 'JJ'), ('space', 'NN'), ('to', 'TO'), ('work', 'VB'), ('with', 'IN'), (',', ','), ('and', 'CC'), ('not', 'RB'), ('allowed', 'VBN'), ('to', 'TO'), ('justify', 'VB'), ('their', 'PRP$'), ('existence', 'NN'), ('with', 'IN'), ('a', 'DT'), ('dizzying', 'JJ'), ('high', 'JJ'), ('concept', 'NN'), (',', ','), ('most', 'JJS'), ('of', 'IN'), ('them', 'PRP'), ('don', 'VBP'), ('’', 'JJ'), ('t', 'NN'), ('work', 'NN'), ('for', 'IN'), ('me', 'PRP'), ('.', '.'), ('They', 'PRP'), ('may', 'MD'), ('be', 'VB'), ('witty', 'JJ'), ('or', 'CC'), ('eloquent', 'JJ'), (',', ','), ('but', 'CC'), ('I', 'PRP'), ('’', 'VBP'), ('m', 'RB'), ('frequently', 'RB'), ('left', 'VBD'), ('wishing', 'VBG'), ('I', 'PRP'), ('knew', 'VBD'), ('more', 'JJR'), ('of', 'IN'), ('the', 'DT'), ('characters', 'NNS'), ('before', 'IN'), ('they', 'PRP'), ('come', 'VBP'), ('onstage', 'NN'), ('.', '.'), ('Often', 'IN'), ('they', 'PRP'), ('feel', 'VBP'), ('like', 'IN'), ('they', 'PRP'), ('would', 'MD'), ('have', 'VB'), ('been', 'VBN'), ('better', 'RB'), ('as', 'IN'), ('a', 'DT'), ('scene', 'NN'), ('in', 'IN'), ('a', 'DT'), ('novel', 'NN'), ('than', 'IN'), ('left', 'VBD'), ('to', 'TO'), ('flounder', 'VB'), ('on', 'IN'), ('their', 'PRP$'), ('own', 'JJ'), ('.', '.'), ('Unduly', 'NNP'), ('harsh', 'NN'), ('?', '.'), ('Perhaps', 'RB'), ('.', '.'), ('But', 'CC'), ('it', 'PRP'), ('gives', 'VBZ'), ('me', 'PRP'), ('all', 'PDT'), ('the', 'DT'), ('more', 'RBR'), ('pleasure', 'NN'), ('to', 'TO'), ('talk', 'VB'), ('about', 'IN'), ('today', 'NN'), ('’', 'NNP'), ('s', 'NN'), ('story', 'NN'), (',', ','), ('which', 'WDT'), ('doesn', 'VBZ'), ('’', 'NNP'), ('t', 'NNP'), ('need', 'VBP'), ('a', 'DT'), ('single', 'JJ'), ('additional', 'JJ'), ('word', 'NN'), ('to', 'TO'), ('be', 'VB'), ('thoroughly', 'RB'), ('immersed', 'VBN'), ('in', 'IN'), ('the', 'DT'), ('situation', 'NN'), ('.', '.'), ('It', 'PRP'), ('starts', 'VBZ'), ('with', 'IN'), ('a', 'DT'), ('husband', 'NN'), ('and', 'CC'), ('wife', 'NN'), ('finishing', 'NN'), ('dinner', 'NN'), ('in', 'IN'), ('silence', 'NN'), ('when', 'WRB'), (',', ','), ('unexpectedly', 'RB'), (':', ':'), ('“', 'NN'), ('Got', 'VBD'), ('a', 'DT'), ('letter', 'NN'), ('from', 'IN'), ('Jimmy', 'NNP'), ('today', 'NN'), (',', ','), ('”', 'NN'), ('he', 'PRP'), ('said', 'VBD'), (',', ','), ('when', 'WRB'), ('he', 'PRP'), ('was', 'VBD'), ('unfolding', 'VBG'), ('his', 'PRP$'), ('napkin', 'NN'), ('.', '.'), ('So', 'RB'), ('you', 'PRP'), ('got', 'VBD'), ('it', 'PRP'), ('at', 'IN'), ('last', 'JJ'), (',', ','), ('she', 'PRP'), ('thought', 'VBD'), (',', ','), ('so', 'IN'), ('he', 'PRP'), ('finally', 'RB'), ('broke', 'VBD'), ('down', 'RB'), ('and', 'CC'), ('wrote', 'VBD'), ('you', 'PRP'), (',', ','), ('maybe', 'RB'), ('now', 'RB'), ('it', 'PRP'), ('will', 'MD'), ('be', 'VB'), ('all', 'DT'), ('right', 'JJ'), (',', ','), ('everything', 'NN'), ('settled', 'VBD'), ('and', 'CC'), ('friendly', 'JJ'), ('again…', 'NN'), ('“', 'VBD'), ('What', 'WP'), ('did', 'VBD'), ('he', 'PRP'), ('have', 'VB'), ('to', 'TO'), ('say', 'VB'), ('?', '.'), ('”', 'CD'), ('she', 'PRP'), ('said', 'VBD'), ('casually', 'RB'), ('.', '.'), ('“', 'JJ'), ('Don', 'NNP'), ('’', 'NNP'), ('t', 'NN'), ('know', 'NN'), (',', ','), ('”', 'CC'), ('he', 'PRP'), ('said', 'VBD'), (',', ','), ('“', 'NNP'), ('didn', 'VBZ'), ('’', 'NNP'), ('t', 'NN'), ('open', 'JJ'), ('it', 'PRP'), ('.', '.'), ('”', 'VB'), ('My', 'PRP$'), ('God', 'NNP'), (',', ','), ('she', 'PRP'), ('thought', 'VBD'), (',', ','), ('seeing', 'VBG'), ('it', 'PRP'), ('clearly', 'RB'), ('all', 'PDT'), ('the', 'DT'), ('way', 'NN'), ('through', 'IN'), ('right', 'JJ'), ('then', 'RB'), ('.', '.'), ('She', 'PRP'), ('waited', 'VBD'), ('.', '.'), ('“', 'RB'), ('Going', 'VBG'), ('to', 'TO'), ('send', 'VB'), ('it', 'PRP'), ('back', 'RB'), ('to', 'TO'), ('him', 'PRP'), ('tomorrow', 'NN'), ('unopened', 'VBD'), ('.', '.'), ('[', 'JJ'), ('…', 'JJ'), (']', 'NN'), ('Had', 'VBD'), ('lunch', 'NN'), ('with', 'IN'), ('Tom', 'NNP'), ('today', 'NN'), (',', ','), ('”', 'NN'), ('he', 'PRP'), ('said', 'VBD'), (',', ','), ('as', 'IN'), ('though', 'IN'), ('the', 'DT'), ('subject', 'NN'), ('were', 'VBD'), ('closed', 'VBN'), (',', ','), ('just', 'RB'), ('exactly', 'RB'), ('as', 'IN'), ('though', 'IN'), ('the', 'DT'), ('subject', 'NN'), ('were', 'VBD'), ('closed', 'VBN'), (',', ','), ('she', 'PRP'), ('thought', 'VBD'), (',', ','), ('just', 'RB'), ('exactly', 'RB'), ('as', 'IN'), ('though', 'IN'), ('he', 'PRP'), ('never', 'RB'), ('expected', 'VBD'), ('to', 'TO'), ('think', 'VB'), ('about', 'IN'), ('it', 'PRP'), ('again', 'RB'), ('.', '.'), ('Maybe', 'RB'), ('he', 'PRP'), ('doesn', 'VBZ'), ('’', 'JJ'), ('t', 'NN'), (',', ','), ('she', 'PRP'), ('thought', 'VBD'), (',', ','), ('my', 'PRP$'), ('God', 'NNP'), ('.', '.'), ('And', 'CC'), ('from', 'IN'), ('there', 'EX'), ('the', 'DT'), ('rest', 'NN'), ('of', 'IN'), ('the', 'DT'), ('tormented', 'JJ'), ('dinner', 'NN'), ('conversation', 'NN'), ('plays', 'VBZ'), ('out', 'RP'), (',', ','), ('while', 'IN'), ('the', 'DT'), ('reader', 'NN'), ('is', 'VBZ'), ('locked', 'VBN'), ('in', 'IN'), ('the', 'DT'), ('wife', 'NN'), ('’', 'NNP'), ('s', 'NN'), ('increasingly', 'RB'), ('panicking', 'VBG'), ('head', 'NN'), ('.', '.'), ('What', 'WP'), ('I', 'PRP'), ('love', 'VBP'), ('about', 'IN'), ('this', 'DT'), ('is', 'VBZ'), ('how', 'WRB'), ('it', 'PRP'), ('turns', 'VBZ'), ('the', 'DT'), ('limitations', 'NNS'), ('of', 'IN'), ('its', 'PRP$'), ('short', 'JJ'), ('length', 'NN'), ('into', 'IN'), ('an', 'DT'), ('asset', 'NN'), ('.', '.'), ('We', 'PRP'), ('don', 'VBP'), ('’', 'JJ'), ('t', 'NN'), ('know', 'VBP'), ('what', 'WP'), ('’', 'NNP'), ('s', 'NN'), ('in', 'IN'), ('the', 'DT'), ('letter', 'NN'), ('from', 'IN'), ('Jimmy', 'NNP'), ('.', '.'), ('We', 'PRP'), ('don', 'VBP'), ('’', 'JJ'), ('t', 'NN'), ('know', 'VBP'), ('why', 'WRB'), ('the', 'DT'), ('husband', 'NN'), ('refuses', 'VBZ'), ('to', 'TO'), ('read', 'VB'), ('it', 'PRP'), ('and', 'CC'), (',', ','), ('for', 'IN'), ('all', 'PDT'), ('the', 'DT'), ('hints', 'NNS'), ('she', 'PRP'), ('drops', 'VBZ'), (',', ','), ('we', 'PRP'), ('don', 'VBP'), ('’', 'JJ'), ('t', 'NN'), ('really', 'RB'), ('know', 'VB'), ('why', 'WRB'), ('she', 'PRP'), ('wants', 'VBZ'), ('him', 'PRP'), ('to', 'TO'), ('read', 'VB'), ('it', 'PRP'), ('.', '.'), ('The', 'DT'), ('core', 'NN'), ('of', 'IN'), ('this', 'DT'), ('story', 'NN'), ('is', 'VBZ'), ('an', 'DT'), ('unspoken', 'JJ'), ('power', 'NN'), ('struggle', 'NN'), ('between', 'IN'), ('husband', 'NN'), ('and', 'CC'), ('wife', 'NN'), (',', ','), ('the', 'DT'), ('husband', 'NN'), ('not', 'RB'), ('even', 'RB'), ('aware', 'JJ'), ('he', 'PRP'), ('’', 'VBZ'), ('s', 'JJ'), ('participating', 'VBG'), ('.', '.'), ('It', 'PRP'), ('’', 'VBZ'), ('s', 'VBZ'), ('a', 'DT'), ('primordial', 'JJ'), ('duel', 'NN'), ('fought', 'NN'), ('with', 'IN'), ('the', 'DT'), ('most', 'RBS'), ('innocuous', 'JJ'), ('of', 'IN'), ('words', 'NNS'), ('and', 'CC'), ('the', 'DT'), ('faintest', 'JJS'), ('of', 'IN'), ('reactions', 'NNS'), (',', ','), ('with', 'IN'), ('a', 'DT'), ('clear', 'JJ'), ('victor', 'NN'), ('standing', 'NN'), ('by', 'IN'), ('the', 'DT'), ('end', 'NN'), ('of', 'IN'), ('it', 'PRP'), ('.', '.'), ('To', 'TO'), ('assign', 'VB'), ('specific', 'JJ'), ('motives', 'NNS'), ('and', 'CC'), ('explanations', 'NNS'), ('would', 'MD'), ('only', 'RB'), ('detract', 'VB'), ('from', 'IN'), ('this', 'DT'), (';', ':'), ('the', 'DT'), ('raw', 'JJ'), ('archetype', 'NN'), ('is', 'VBZ'), ('more', 'JJR'), ('than', 'IN'), ('powerful', 'JJ'), ('enough', 'RB'), ('.', '.'), ('It', 'PRP'), ('’', 'VBZ'), ('s', 'NN'), ('said', 'VBD'), ('that', 'IN'), ('a', 'DT'), ('novel', 'NN'), ('is', 'VBZ'), ('the', 'DT'), ('most', 'RBS'), ('momentous', 'JJ'), ('period', 'NN'), ('of', 'IN'), ('a', 'DT'), ('character', 'NN'), ('’', 'NN'), ('s', 'JJ'), ('life', 'NN'), (',', ','), ('whereas', 'IN'), ('a', 'DT'), ('short', 'JJ'), ('story', 'NN'), ('is', 'VBZ'), ('about', 'IN'), ('highlighting', 'VBG'), ('the', 'DT'), ('most', 'RBS'), ('momentous', 'JJ'), ('instant', 'NN'), ('.', '.'), ('This', 'DT'), ('it', 'PRP'), ('succeeds', 'VBZ'), ('at', 'IN'), (',', ','), ('with', 'IN'), ('the', 'DT'), ('wife', 'NN'), ('elevating', 'VBG'), ('the', 'DT'), ('letter', 'NN'), ('until', 'IN'), ('it', 'PRP'), ('becomes', 'VBZ'), ('a', 'DT'), ('moment', 'NN'), ('of', 'IN'), ('crucial', 'JJ'), ('importance', 'NN'), (',', ','), ('while', 'IN'), ('never', 'RB'), ('leaving', 'VBG'), ('behind', 'IN'), ('the', 'DT'), ('juxtaposition', 'NN'), ('that', 'IN'), ('their', 'PRP$'), ('whole', 'JJ'), ('conflict', 'NN'), ('–', 'NN'), ('that', 'IN'), ('of', 'IN'), ('opening', 'VBG'), ('a', 'DT'), ('letter', 'NN'), ('–', 'NN'), ('is', 'VBZ'), ('also', 'RB'), ('absurdly', 'RB'), ('trivial', 'JJ'), ('.', '.'), ('Got', 'NNP'), ('a', 'DT'), ('Letter', 'NNP'), ('from', 'IN'), ('Jimmy', 'NNP'), ('by', 'IN'), ('Shirley', 'NNP'), ('Jackson', 'NNP'), ('Availability', 'NN'), (':', ':'), ('print', 'NN'), ('Word', 'NNP'), ('count', 'NN'), (':', ':'), ('800', 'CD'), ('First', 'RB'), ('published', 'VBN'), (':', ':'), ('The', 'DT'), ('Lottery', 'NNP'), (',', ','), ('or', 'CC'), (',', ','), ('The', 'DT'), ('Adventures', 'NNS'), ('of', 'IN'), ('James', 'NNP'), ('Harris', 'NNP'), (',', ','), ('collection', 'NN'), (',', ','), ('1949', 'CD'), ('Where', 'WRB'), ('to', 'TO'), ('find', 'VB'), ('it', 'PRP'), (':', ':'), ('It', 'PRP'), ('’', 'VBZ'), ('s', 'NN'), ('in', 'IN'), ('a', 'DT'), ('good', 'JJ'), ('deal', 'NN'), ('of', 'IN'), ('Shirley', 'NNP'), ('Jackson', 'NNP'), ('collections', 'NNS'), ('entitled', 'VBD'), ('‘', 'RP'), ('The', 'DT'), ('Lottery', 'NNP'), ('’', 'NN'), ('The', 'DT'), ('Masterpieces', 'NNPS'), ('of', 'IN'), ('Shirley', 'NNP'), ('Jackson', 'NNP'), (',', ','), ('collection', 'NN'), (',', ','), ('1996', 'CD'), (',', ','), ('Raven', 'NNP'), ('Books', 'NNP'), ('/', 'NNP'), ('Robinson', 'NNP'), ('Publishing', 'NNP'), ('Shirley', 'NNP'), ('Jackson', 'NNP'), (':', ':'), ('Novels', 'NNS'), ('and', 'CC'), ('Stories', 'NNS'), (',', ','), ('collection', 'NN'), (',', ','), ('2010', 'CD'), (',', ','), ('Library', 'NNP'), ('of', 'IN'), ('America', 'NNP'), ('Ditto', 'NNP'), ('.', '.'), ('Agree', 'NNP'), ('with', 'IN'), ('your', 'PRP$'), ('take', 'NN'), ('on', 'IN'), ('this', 'DT'), ('story', 'NN'), ('.', '.'), ('Like', 'IN'), ('all', 'DT'), ('of', 'IN'), ('her', 'PRP$'), ('best', 'JJS'), ('work', 'NN'), (',', ','), ('its', 'PRP$'), ('powers', 'NNS'), (',', ','), ('emphasis', 'NN'), (',', ','), ('and', 'CC'), ('values', 'NNS'), ('are', 'VBP'), ('not', 'RB'), ('what', 'WP'), ('and', 'CC'), ('where', 'WRB'), ('you', 'PRP'), ('expect', 'VBP'), ('to', 'TO'), ('find', 'VB'), ('them', 'PRP'), ('.', '.'), ('Fill', 'NNP'), ('in', 'IN'), ('your', 'PRP$'), ('details', 'NNS'), ('below', 'IN'), ('or', 'CC'), ('click', 'VB'), ('an', 'DT'), ('icon', 'NN'), ('to', 'TO'), ('log', 'VB'), ('in', 'IN'), (':', ':'), ('You', 'PRP'), ('are', 'VBP'), ('commenting', 'VBG'), ('using', 'VBG'), ('your', 'PRP$'), ('WordPress.com', 'NNP'), ('account', 'NN'), ('.', '.'), ('(', '('), ('Log', 'NNP'), ('Out', 'NNP'), ('/', 'NNP'), ('Change', 'NNP'), (')', ')'), ('You', 'PRP'), ('are', 'VBP'), ('commenting', 'VBG'), ('using', 'VBG'), ('your', 'PRP$'), ('Twitter', 'NN'), ('account', 'NN'), ('.', '.'), ('(', '('), ('Log', 'NNP'), ('Out', 'NNP'), ('/', 'NNP'), ('Change', 'NNP'), (')', ')'), ('You', 'PRP'), ('are', 'VBP'), ('commenting', 'VBG'), ('using', 'VBG'), ('your', 'PRP$'), ('Facebook', 'NNP'), ('account', 'NN'), ('.', '.'), ('(', '('), ('Log', 'NNP'), ('Out', 'NNP'), ('/', 'NNP'), ('Change', 'NNP'), (')', ')'), ('Connecting', 'VBG'), ('to', 'TO'), ('%', 'NN'), ('s', 'NN'), ('Notify', 'NNP'), ('me', 'PRP'), ('of', 'IN'), ('new', 'JJ'), ('comments', 'NNS'), ('via', 'IN'), ('email', 'NN'), ('.', '.'), ('Notify', 'NNP'), ('me', 'PRP'), ('of', 'IN'), ('new', 'JJ'), ('posts', 'NNS'), ('via', 'IN'), ('email', 'NN'), ('.', '.'), ('Enter', 'RB'), ('your', 'PRP$'), ('email', 'NN'), ('address', 'NN'), ('to', 'TO'), ('follow', 'VB'), ('this', 'DT'), ('blog', 'NN'), ('and', 'CC'), ('receive', 'JJ'), ('notifications', 'NNS'), ('of', 'IN'), ('new', 'JJ'), ('posts', 'NNS'), ('by', 'IN'), ('email', 'NN'), ('.', '.'), ('Email', 'NNP'), ('Address', 'NN'), (':', ':'), ('Follow', 'VB')]\n"
     ]
    }
   ],
   "source": [
    "posTag = []\n",
    "for sentence in plain_text:\n",
    "    tokenized = nltk.word_tokenize(sentence)\n",
    "    tagged = nltk.pos_tag(tokenized)\n",
    "    for item in tagged:\n",
    "        posTag.append(item)\n",
    "\n",
    "print(posTag)"
   ]
  },
  {
   "cell_type": "markdown",
   "id": "3a1241e4-0ddc-4f53-abaa-0867de3e3374",
   "metadata": {},
   "source": [
    "#### 1.5 Stopwords"
   ]
  },
  {
   "cell_type": "markdown",
   "id": "5e03e974-481d-463a-a08c-abba79d06c39",
   "metadata": {},
   "source": [
    "Stopwords are the most common words in any language such as:\n",
    "\n",
    "- articles, \n",
    "- prepositions, \n",
    "- pronouns, \n",
    "- conjunctions, \n",
    "\n",
    "which doesnt add much context.\n"
   ]
  },
  {
   "cell_type": "code",
   "execution_count": 34,
   "id": "11e5eee5-88d8-45de-b68c-874b18817b67",
   "metadata": {},
   "outputs": [],
   "source": [
    "from nltk.corpus import stopwords\n",
    "\n",
    "stop_words=set(stopwords.words(\"english\"))\n",
    "#print(stop_words)"
   ]
  },
  {
   "cell_type": "markdown",
   "id": "939f5c29-5b32-46df-870a-aafd7e9da1bb",
   "metadata": {},
   "source": [
    "##### Deleting stopwords"
   ]
  },
  {
   "cell_type": "markdown",
   "id": "088c3424-223f-424f-a5f4-59fcc2f41bb2",
   "metadata": {},
   "source": [
    "By removing these words, we remove the low-level information from our text in order to give more focus to the important information. Removal of stop words definitely reduces the dataset size and thus reduces the training time due to the fewer number of tokens involved in the training."
   ]
  },
  {
   "cell_type": "code",
   "execution_count": 35,
   "id": "b8c16903-3799-47ae-b7d5-95bcd309493b",
   "metadata": {},
   "outputs": [
    {
     "name": "stdout",
     "output_type": "stream",
     "text": [
      "A story without stopwords: ['Got', 'Letter', 'Jimmy', 'Shirley', 'Jackson', '|', 'Ten', 'Infinity', 'Got', 'Letter', 'Jimmy', 'Shirley', 'Jackson', 'Posted', '10toinfinityOctober', '23', ',', '2013', 'Home', 'As', 'reader', 'I', 'biases', '(', '’', ')', ',', 'one', 'I', 'often', 'left', 'frustrated', 'short', 'stories', 'emphasize', 'mundanity', '.', 'With', 'small', 'space', 'work', ',', 'allowed', 'justify', 'existence', 'dizzying', 'high', 'concept', ',', '’', 'work', '.', 'They', 'may', 'witty', 'eloquent', ',', 'I', '’', 'frequently', 'left', 'wishing', 'I', 'knew', 'characters', 'come', 'onstage', '.', 'Often', 'feel', 'like', 'would', 'better', 'scene', 'novel', 'left', 'flounder', '.', 'Unduly', 'harsh', '?', 'Perhaps', '.', 'But', 'gives', 'pleasure', 'talk', 'today', '’', 'story', ',', '’', 'need', 'single', 'additional', 'word', 'thoroughly', 'immersed', 'situation', '.', 'It', 'starts', 'husband', 'wife', 'finishing', 'dinner', 'silence', ',', 'unexpectedly', ':', '“', 'Got', 'letter', 'Jimmy', 'today', ',', '”', 'said', ',', 'unfolding', 'napkin', '.', 'So', 'got', 'last', ',', 'thought', ',', 'finally', 'broke', 'wrote', ',', 'maybe', 'right', ',', 'everything', 'settled', 'friendly', 'again…', '“', 'What', 'say', '?', '”', 'said', 'casually', '.', '“', 'Don', '’', 'know', ',', '”', 'said', ',', '“', '’', 'open', 'it.', '”', 'My', 'God', ',', 'thought', ',', 'seeing', 'clearly', 'way', 'right', '.', 'She', 'waited', '.', '“', 'Going', 'send', 'back', 'tomorrow', 'unopened', '.', '[', '…', ']', 'Had', 'lunch', 'Tom', 'today', ',', '”', 'said', ',', 'though', 'subject', 'closed', ',', 'exactly', 'though', 'subject', 'closed', ',', 'thought', ',', 'exactly', 'though', 'never', 'expected', 'think', '.', 'Maybe', '’', ',', 'thought', ',', 'God', '.', 'And', 'rest', 'tormented', 'dinner', 'conversation', 'plays', ',', 'reader', 'locked', 'wife', '’', 'increasingly', 'panicking', 'head', '.', 'What', 'I', 'love', 'turns', 'limitations', 'short', 'length', 'asset', '.', 'We', '’', 'know', '’', 'letter', 'Jimmy', '.', 'We', '’', 'know', 'husband', 'refuses', 'read', ',', 'hints', 'drops', ',', '’', 'really', 'know', 'wants', 'read', '.', 'The', 'core', 'story', 'unspoken', 'power', 'struggle', 'husband', 'wife', ',', 'husband', 'even', 'aware', '’', 'participating', '.', 'It', '’', 'primordial', 'duel', 'fought', 'innocuous', 'words', 'faintest', 'reactions', ',', 'clear', 'victor', 'standing', 'end', '.', 'To', 'assign', 'specific', 'motives', 'explanations', 'would', 'detract', ';', 'raw', 'archetype', 'powerful', 'enough', '.', 'It', '’', 'said', 'novel', 'momentous', 'period', 'character', '’', 'life', ',', 'whereas', 'short', 'story', 'highlighting', 'momentous', 'instant', '.', 'This', 'succeeds', ',', 'wife', 'elevating', 'letter', 'becomes', 'moment', 'crucial', 'importance', ',', 'never', 'leaving', 'behind', 'juxtaposition', 'whole', 'conflict', '–', 'opening', 'letter', '–', 'also', 'absurdly', 'trivial', '.', 'Got', 'Letter', 'Jimmy', 'Shirley', 'Jackson', 'Availability', ':', 'print', 'Word', 'count', ':', '800', 'First', 'published', ':', 'The', 'Lottery', ',', ',', 'The', 'Adventures', 'James', 'Harris', ',', 'collection', ',', '1949', 'Where', 'find', ':', 'It', '’', 'good', 'deal', 'Shirley', 'Jackson', 'collections', 'entitled', '‘', 'The', 'Lottery', '’', 'The', 'Masterpieces', 'Shirley', 'Jackson', ',', 'collection', ',', '1996', ',', 'Raven', 'Books', '/', 'Robinson', 'Publishing', 'Shirley', 'Jackson', ':', 'Novels', 'Stories', ',', 'collection', ',', '2010', ',', 'Library', 'America', 'Share', ':', 'TwitterFacebookLike', ':', 'Like', 'Loading', '...', 'Related', 'Posted', ':', 'RecommendationsTagged', ':', '1940s', ',', 'modern', ',', 'psychological', ',', 'relationship', ',', 'Shirley', 'Jackson', ',', 'Short', 'StoryPermalink1', 'Comment', 'One', 'thought', '“', 'Got', 'Letter', 'Jimmy', 'Shirley', 'Jackson', '”', 'Henry', 'Lien', 'says', ':', 'October', '25', ',', '2013', '6:58', 'pm', 'Ditto', '.', 'Agree', 'take', 'story', '.', 'Like', 'best', 'work', ',', 'powers', ',', 'emphasis', ',', 'values', 'expect', 'find', '.', 'Reply', 'Leave', 'Reply', 'Cancel', 'reply', 'Enter', 'comment', '...', 'Fill', 'details', 'click', 'icon', 'log', ':', 'Email', '(', 'required', ')', '(', 'Address', 'never', 'made', 'public', ')', 'Name', '(', 'required', ')', 'Website', 'You', 'commenting', 'using', 'WordPress.com', 'account', '.', '(', 'Log', 'Out', '/', 'Change', ')', 'You', 'commenting', 'using', 'Twitter', 'account', '.', '(', 'Log', 'Out', '/', 'Change', ')', 'You', 'commenting', 'using', 'Facebook', 'account', '.', '(', 'Log', 'Out', '/', 'Change', ')', 'Cancel', 'Connecting', '%', 'Notify', 'new', 'comments', 'via', 'email', '.', 'Notify', 'new', 'posts', 'via', 'email', '.', 'Δ', 'Post', 'navigation', '←', 'Creating', 'Innocent', 'Killer', 'John', 'Kessel', 'The', 'Great', 'God', 'Pan', 'Arthur', 'Machen', '→', 'Pages', 'Bio', 'contact', 'Freebie', 'Friday', ':', 'Free', 'Online', 'Stories', 'Index', ':', 'Authors', 'Index', ':', 'Genre', 'Index', ':', 'Publication', 'Year', 'Recent', 'Posts', 'Some', 'moon-related', 'books', 'The', '1879', 'Jeannette', 'Expedition', 'The', 'Many', 'Captain', 'Marvels', '(', 'part', '2', ')', 'The', 'Many', 'Captain', 'Marvels', '(', 'part', '1', ')', 'The', 'Wall', 'Around', 'World', '(', 'collection', ')', 'Theodore', 'R.', 'Cogswell', 'Search', 'Follow', 'Blog', 'via', 'Email', 'Enter', 'email', 'address', 'follow', 'blog', 'receive', 'notifications', 'new', 'posts', 'email', '.', 'Email', 'Address', ':', 'Follow', 'Create', 'free', 'website', 'blog', 'WordPress.com', '.', 'Follow', 'Following', 'Ten', 'Infinity', 'Join', '90', 'followers', 'Sign', 'Already', 'WordPress.com', 'account', '?', 'Log', '.', 'Ten', 'Infinity', 'Customize', 'Follow', 'Following', 'Sign', 'Log', 'Copy', 'shortlink', 'Report', 'content', 'View', 'post', 'Reader', 'Manage', 'subscriptions', 'Collapse', 'bar', 'Loading', 'Comments', '...', 'Write', 'Comment', '...', 'Email', '(', 'Required', ')', 'Name', '(', 'Required', ')', 'Website', '%', 'bloggers', 'like', ':']\n"
     ]
    }
   ],
   "source": [
    "no_stopwords=[]\n",
    "for token in tokenized_story:    \n",
    "    if token not in stop_words:\n",
    "         no_stopwords.append(token)\n",
    "print(\"A story without stopwords:\",no_stopwords)"
   ]
  },
  {
   "cell_type": "markdown",
   "id": "2758903b-cdd1-4dfb-aeee-c6e1d0ad9fea",
   "metadata": {},
   "source": [
    "##### Removing punctuation"
   ]
  },
  {
   "cell_type": "code",
   "execution_count": 43,
   "id": "f4829b80-5f04-4f4c-98d1-84e1eb769c68",
   "metadata": {},
   "outputs": [
    {
     "name": "stdout",
     "output_type": "stream",
     "text": [
      "A story without punctuation: ['Got', 'Letter', 'Jimmy', 'Shirley', 'Jackson', 'Ten', 'Infinity', 'Got', 'Letter', 'Jimmy', 'Shirley', 'Jackson', 'Posted', '10toinfinityOctober', '23', '2013', 'Home', 'As', 'reader', 'I', 'biases', '’', 'one', 'I', 'often', 'left', 'frustrated', 'short', 'stories', 'emphasize', 'mundanity', 'With', 'small', 'space', 'work', 'allowed', 'justify', 'existence', 'dizzying', 'high', 'concept', '’', 'work', 'They', 'may', 'witty', 'eloquent', 'I', '’', 'frequently', 'left', 'wishing', 'I', 'knew', 'characters', 'come', 'onstage', 'Often', 'feel', 'like', 'would', 'better', 'scene', 'novel', 'left', 'flounder', 'Unduly', 'harsh', 'Perhaps', 'But', 'gives', 'pleasure', 'talk', 'today', '’', 'story', '’', 'need', 'single', 'additional', 'word', 'thoroughly', 'immersed', 'situation', 'It', 'starts', 'husband', 'wife', 'finishing', 'dinner', 'silence', 'unexpectedly', '“', 'Got', 'letter', 'Jimmy', 'today', '”', 'said', 'unfolding', 'napkin', 'So', 'got', 'last', 'thought', 'finally', 'broke', 'wrote', 'maybe', 'right', 'everything', 'settled', 'friendly', 'again…', '“', 'What', 'say', '”', 'said', 'casually', '“', 'Don', '’', 'know', '”', 'said', '“', '’', 'open', 'it.', '”', 'My', 'God', 'thought', 'seeing', 'clearly', 'way', 'right', 'She', 'waited', '“', 'Going', 'send', 'back', 'tomorrow', 'unopened', '…', 'Had', 'lunch', 'Tom', 'today', '”', 'said', 'though', 'subject', 'closed', 'exactly', 'though', 'subject', 'closed', 'thought', 'exactly', 'though', 'never', 'expected', 'think', 'Maybe', '’', 'thought', 'God', 'And', 'rest', 'tormented', 'dinner', 'conversation', 'plays', 'reader', 'locked', 'wife', '’', 'increasingly', 'panicking', 'head', 'What', 'I', 'love', 'turns', 'limitations', 'short', 'length', 'asset', 'We', '’', 'know', '’', 'letter', 'Jimmy', 'We', '’', 'know', 'husband', 'refuses', 'read', 'hints', 'drops', '’', 'really', 'know', 'wants', 'read', 'The', 'core', 'story', 'unspoken', 'power', 'struggle', 'husband', 'wife', 'husband', 'even', 'aware', '’', 'participating', 'It', '’', 'primordial', 'duel', 'fought', 'innocuous', 'words', 'faintest', 'reactions', 'clear', 'victor', 'standing', 'end', 'To', 'assign', 'specific', 'motives', 'explanations', 'would', 'detract', 'raw', 'archetype', 'powerful', 'enough', 'It', '’', 'said', 'novel', 'momentous', 'period', 'character', '’', 'life', 'whereas', 'short', 'story', 'highlighting', 'momentous', 'instant', 'This', 'succeeds', 'wife', 'elevating', 'letter', 'becomes', 'moment', 'crucial', 'importance', 'never', 'leaving', 'behind', 'juxtaposition', 'whole', 'conflict', '–', 'opening', 'letter', '–', 'also', 'absurdly', 'trivial', 'Got', 'Letter', 'Jimmy', 'Shirley', 'Jackson', 'Availability', 'print', 'Word', 'count', '800', 'First', 'published', 'The', 'Lottery', 'The', 'Adventures', 'James', 'Harris', 'collection', '1949', 'Where', 'find', 'It', '’', 'good', 'deal', 'Shirley', 'Jackson', 'collections', 'entitled', '‘', 'The', 'Lottery', '’', 'The', 'Masterpieces', 'Shirley', 'Jackson', 'collection', '1996', 'Raven', 'Books', 'Robinson', 'Publishing', 'Shirley', 'Jackson', 'Novels', 'Stories', 'collection', '2010', 'Library', 'America', 'Share', 'TwitterFacebookLike', 'Like', 'Loading', '...', 'Related', 'Posted', 'RecommendationsTagged', '1940s', 'modern', 'psychological', 'relationship', 'Shirley', 'Jackson', 'Short', 'StoryPermalink1', 'Comment', 'One', 'thought', '“', 'Got', 'Letter', 'Jimmy', 'Shirley', 'Jackson', '”', 'Henry', 'Lien', 'says', 'October', '25', '2013', '6:58', 'pm', 'Ditto', 'Agree', 'take', 'story', 'Like', 'best', 'work', 'powers', 'emphasis', 'values', 'expect', 'find', 'Reply', 'Leave', 'Reply', 'Cancel', 'reply', 'Enter', 'comment', '...', 'Fill', 'details', 'click', 'icon', 'log', 'Email', 'required', 'Address', 'never', 'made', 'public', 'Name', 'required', 'Website', 'You', 'commenting', 'using', 'WordPress.com', 'account', 'Log', 'Out', 'Change', 'You', 'commenting', 'using', 'Twitter', 'account', 'Log', 'Out', 'Change', 'You', 'commenting', 'using', 'Facebook', 'account', 'Log', 'Out', 'Change', 'Cancel', 'Connecting', 'Notify', 'new', 'comments', 'via', 'email', 'Notify', 'new', 'posts', 'via', 'email', 'Δ', 'Post', 'navigation', '←', 'Creating', 'Innocent', 'Killer', 'John', 'Kessel', 'The', 'Great', 'God', 'Pan', 'Arthur', 'Machen', '→', 'Pages', 'Bio', 'contact', 'Freebie', 'Friday', 'Free', 'Online', 'Stories', 'Index', 'Authors', 'Index', 'Genre', 'Index', 'Publication', 'Year', 'Recent', 'Posts', 'Some', 'moon-related', 'books', 'The', '1879', 'Jeannette', 'Expedition', 'The', 'Many', 'Captain', 'Marvels', 'part', '2', 'The', 'Many', 'Captain', 'Marvels', 'part', '1', 'The', 'Wall', 'Around', 'World', 'collection', 'Theodore', 'R.', 'Cogswell', 'Search', 'Follow', 'Blog', 'via', 'Email', 'Enter', 'email', 'address', 'follow', 'blog', 'receive', 'notifications', 'new', 'posts', 'email', 'Email', 'Address', 'Follow', 'Create', 'free', 'website', 'blog', 'WordPress.com', 'Follow', 'Following', 'Ten', 'Infinity', 'Join', '90', 'followers', 'Sign', 'Already', 'WordPress.com', 'account', 'Log', 'Ten', 'Infinity', 'Customize', 'Follow', 'Following', 'Sign', 'Log', 'Copy', 'shortlink', 'Report', 'content', 'View', 'post', 'Reader', 'Manage', 'subscriptions', 'Collapse', 'bar', 'Loading', 'Comments', '...', 'Write', 'Comment', '...', 'Email', 'Required', 'Name', 'Required', 'Website', 'bloggers', 'like']\n"
     ]
    }
   ],
   "source": [
    "import string\n",
    "\n",
    "# punctuations\n",
    "punctuations=list(string.punctuation)\n",
    "\n",
    "no_punctuation=[]\n",
    "\n",
    "for pun in no_stopwords:\n",
    "    if pun not in punctuations:\n",
    "        no_punctuation.append(pun)\n",
    "        \n",
    "print(\"A story without punctuation:\",no_punctuation)"
   ]
  },
  {
   "cell_type": "markdown",
   "id": "c4601f2c-42dc-4aec-be71-23aa7ad3f96c",
   "metadata": {},
   "source": [
    "### 2 Text Analysis"
   ]
  },
  {
   "cell_type": "markdown",
   "id": "098f8675-cff6-4d83-813e-484bb6cd988a",
   "metadata": {},
   "source": [
    "#### 2.1 Frequency list"
   ]
  },
  {
   "cell_type": "code",
   "execution_count": 47,
   "id": "70653ed0-bde2-4d0e-af51-e51633c3ea50",
   "metadata": {},
   "outputs": [
    {
     "name": "stdout",
     "output_type": "stream",
     "text": [
      "[('’', 19), ('The', 10), ('Shirley', 8), ('Jackson', 8), ('Jimmy', 6), ('“', 6), ('”', 6), ('Got', 5), ('I', 5), ('said', 5), ('thought', 5), ('Log', 5), ('Letter', 4), ('story', 4), ('It', 4), ('husband', 4), ('wife', 4), ('letter', 4), ('know', 4), ('collection', 4), ('...', 4), ('Email', 4), ('account', 4), ('email', 4), ('Follow', 4), ('Ten', 3), ('Infinity', 3), ('left', 3), ('short', 3), ('work', 3)]\n"
     ]
    }
   ],
   "source": [
    "from nltk.probability import FreqDist\n",
    "\n",
    "frequency = FreqDist(no_punctuation)\n",
    "print(frequency.most_common(30))"
   ]
  },
  {
   "cell_type": "markdown",
   "id": "afd537af-5961-4245-bdd1-891eccd0c2c6",
   "metadata": {},
   "source": [
    "#### 2.2 Sentiment Analysis"
   ]
  },
  {
   "cell_type": "markdown",
   "id": "9741ee23-2bd3-43fe-937d-dc5301f87f49",
   "metadata": {},
   "source": [
    "**Sentiment analysis**, also called **opinion mining**, allows to analize emotions that underline any given text. It helps to ***understand the opinion and feelings in a text*** and classify them **positive**, **negative** or **neutral**. Additionally there is also a compound score which is the sum of positive, negative & neutral scores."
   ]
  },
  {
   "cell_type": "code",
   "execution_count": 54,
   "id": "de0d3c46-a89e-4992-a460-becbe805a832",
   "metadata": {},
   "outputs": [
    {
     "data": {
      "text/plain": [
       "{'neg': 0.042, 'neu': 0.812, 'pos': 0.146, 'compound': 0.9986}"
      ]
     },
     "execution_count": 54,
     "metadata": {},
     "output_type": "execute_result"
    }
   ],
   "source": [
    "from nltk.sentiment import SentimentIntensityAnalyzer\n",
    "sia = SentimentIntensityAnalyzer()\n",
    "sia.polarity_scores(full_story)"
   ]
  },
  {
   "cell_type": "markdown",
   "id": "72086804-19cc-465d-99da-e90255550e89",
   "metadata": {},
   "source": [
    "A presented above, the polarity of the text is majorily neutral. There are more positive than negative words. Having interpreted this story, I can agree with the results. Shirly Jackson's style is refered to as **quotidian Gothic**. It shows a deep interplay of repression, fear, and disgust inside a more or less 'normal' world. "
   ]
  },
  {
   "cell_type": "code",
   "execution_count": 56,
   "id": "3fb92770-eeb3-4c9c-8cf5-c47497fa562b",
   "metadata": {},
   "outputs": [],
   "source": [
    "from nltk.tree import *"
   ]
  },
  {
   "cell_type": "code",
   "execution_count": null,
   "id": "441e6b0e-a7e6-4e0c-8293-244a17d26d1a",
   "metadata": {},
   "outputs": [],
   "source": []
  }
 ],
 "metadata": {
  "kernelspec": {
   "display_name": "Python 3 (ipykernel)",
   "language": "python",
   "name": "python3"
  },
  "language_info": {
   "codemirror_mode": {
    "name": "ipython",
    "version": 3
   },
   "file_extension": ".py",
   "mimetype": "text/x-python",
   "name": "python",
   "nbconvert_exporter": "python",
   "pygments_lexer": "ipython3",
   "version": "3.9.7"
  },
  "toc-autonumbering": false
 },
 "nbformat": 4,
 "nbformat_minor": 5
}
